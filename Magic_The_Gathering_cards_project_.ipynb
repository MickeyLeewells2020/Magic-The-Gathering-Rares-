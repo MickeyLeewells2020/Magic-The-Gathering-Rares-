{
  "nbformat": 4,
  "nbformat_minor": 0,
  "metadata": {
    "colab": {
      "name": "Magic: The Gathering cards project .ipynb",
      "provenance": [],
      "collapsed_sections": [],
      "authorship_tag": "ABX9TyOmQWMTgTU3Xy/xm0N/eXTh",
      "include_colab_link": true
    },
    "kernelspec": {
      "name": "python3",
      "display_name": "Python 3"
    }
  },
  "cells": [
    {
      "cell_type": "markdown",
      "metadata": {
        "id": "view-in-github",
        "colab_type": "text"
      },
      "source": [
        "<a href=\"https://colab.research.google.com/github/MickeyLeewells2020/Magic-The-Gathering-Rares-/blob/master/Magic_The_Gathering_cards_project_.ipynb\" target=\"_parent\"><img src=\"https://colab.research.google.com/assets/colab-badge.svg\" alt=\"Open In Colab\"/></a>"
      ]
    },
    {
      "cell_type": "code",
      "metadata": {
        "id": "pQbzA7u_pk66",
        "colab_type": "code",
        "colab": {}
      },
      "source": [
        "import pandas as  pd\n",
        "import numpy as np\n",
        "import plotly.express as px \n",
        "import seaborn as sns\n",
        "import matplotlib.pyplot as plt\n"
      ],
      "execution_count": 0,
      "outputs": []
    },
    {
      "cell_type": "code",
      "metadata": {
        "id": "71k8PvQJp5Cc",
        "colab_type": "code",
        "colab": {}
      },
      "source": [
        "MTG = pd.read_csv('/content/MTG_cards.csv', index_col=0 ,dtype= 'str' )\n",
        "# read in as a str to make it easier  coerce  columns"
      ],
      "execution_count": 0,
      "outputs": []
    },
    {
      "cell_type": "code",
      "metadata": {
        "id": "gOb7yfNZp5Jv",
        "colab_type": "code",
        "colab": {}
      },
      "source": [
        "MTG.head() , MTG.tail()\n",
        "# inspecting head and tail"
      ],
      "execution_count": 0,
      "outputs": []
    },
    {
      "cell_type": "code",
      "metadata": {
        "id": "h-7gbwX3p5P0",
        "colab_type": "code",
        "outputId": "2ed746f3-1779-46c4-eeee-18d4a1dfa592",
        "colab": {
          "base_uri": "https://localhost:8080/"
        }
      },
      "source": [
        "MTG.isnull().sum()\n",
        "# checking for nan vaules "
      ],
      "execution_count": 0,
      "outputs": [
        {
          "output_type": "execute_result",
          "data": {
            "text/plain": [
              "name                    0\n",
              "lang                    0\n",
              "released_at             0\n",
              "mana_cost            7403\n",
              "cmc                     0\n",
              "type_line               0\n",
              "oracle_text          1988\n",
              "colors                266\n",
              "color_identity          0\n",
              "reserved                0\n",
              "reprint                 0\n",
              "set                     0\n",
              "set_name                0\n",
              "set_type                0\n",
              "collector_number        0\n",
              "digital                 0\n",
              "rarity                  0\n",
              "border_color            0\n",
              "edhrec_rank          5227\n",
              "power               26740\n",
              "toughness           26740\n",
              "promo_types         46137\n",
              "loyalty             49656\n",
              "dtype: int64"
            ]
          },
          "metadata": {
            "tags": []
          },
          "execution_count": 53
        }
      ]
    },
    {
      "cell_type": "code",
      "metadata": {
        "id": "EbPkq5M_p5x1",
        "colab_type": "code",
        "outputId": "858b5e92-67f8-4814-d31f-1ae1bd19e57a",
        "colab": {
          "base_uri": "https://localhost:8080/"
        }
      },
      "source": [
        "MTG.dtypes\n",
        "# checking and verify dtypes"
      ],
      "execution_count": 0,
      "outputs": [
        {
          "output_type": "execute_result",
          "data": {
            "text/plain": [
              "name                object\n",
              "lang                object\n",
              "released_at         object\n",
              "mana_cost           object\n",
              "cmc                 object\n",
              "type_line           object\n",
              "oracle_text         object\n",
              "colors              object\n",
              "color_identity      object\n",
              "reserved            object\n",
              "reprint             object\n",
              "set                 object\n",
              "set_name            object\n",
              "set_type            object\n",
              "collector_number    object\n",
              "digital             object\n",
              "rarity              object\n",
              "border_color        object\n",
              "edhrec_rank         object\n",
              "power               object\n",
              "toughness           object\n",
              "promo_types         object\n",
              "loyalty             object\n",
              "dtype: object"
            ]
          },
          "metadata": {
            "tags": []
          },
          "execution_count": 54
        }
      ]
    },
    {
      "cell_type": "code",
      "metadata": {
        "id": "A7tP1PVBp5xK",
        "colab_type": "code",
        "colab": {}
      },
      "source": [
        "mtg_ = MTG"
      ],
      "execution_count": 0,
      "outputs": []
    },
    {
      "cell_type": "code",
      "metadata": {
        "id": "YasZgDDCrzjn",
        "colab_type": "code",
        "colab": {}
      },
      "source": [
        "print(mtg_['loyalty'].value_counts())\n",
        "print(mtg_['power'].value_counts())\n",
        "print(mtg_['toughness'].value_counts())"
      ],
      "execution_count": 0,
      "outputs": []
    },
    {
      "cell_type": "code",
      "metadata": {
        "id": "eGz7nPxhCiob",
        "colab_type": "code",
        "outputId": "5ff7b654-7094-410b-b0bd-c89419f4b231",
        "colab": {
          "base_uri": "https://localhost:8080/"
        }
      },
      "source": [
        "print(mtg_['loyalty'].dtypes)\n",
        "print(mtg_['power'].dtypes)\n",
        "print(mtg_['toughness'].dtypes)"
      ],
      "execution_count": 0,
      "outputs": [
        {
          "output_type": "stream",
          "text": [
            "object\n",
            "object\n",
            "object\n"
          ],
          "name": "stdout"
        }
      ]
    },
    {
      "cell_type": "code",
      "metadata": {
        "id": "OBvonv9vslwB",
        "colab_type": "code",
        "colab": {}
      },
      "source": [
        "mtg_['loyalty'] = mtg_['loyalty'].replace('1d4+1',0.2)\n",
        "mtg_['loyalty'] = mtg_['loyalty'].replace('*',0.1)\n",
        "mtg_['loyalty'] = mtg_['loyalty'].replace('X',0.1)\n",
        "mtg_['toughness'] = mtg_['toughness'].replace('*',0.1)\n",
        "mtg_['toughness'] = mtg_['toughness'].replace('1+*',0.2)\n",
        "mtg_['toughness'] = mtg_['toughness'].replace('2+*',0.3)\n",
        "mtg_['toughness'] = mtg_['toughness'].replace('?',0.4)\n",
        "mtg_['toughness'] = mtg_['toughness'].replace('7-*',0.5)\n",
        "mtg_['toughness'] = mtg_['toughness'].replace('*+1',0.6)\n",
        "mtg_['toughness'] = mtg_['toughness'].replace('*²',0.7)\n",
        "mtg_['power'] = mtg_['power'].replace('*',0.1)\n",
        "mtg_['power'] = mtg_['power'].replace('1+*',0.2)\n",
        "mtg_['power'] = mtg_['power'].replace('2+*',0.3)\n",
        "mtg_['power'] = mtg_['power'].replace('?',0.4)\n",
        "mtg_['power'] = mtg_['power'].replace('7-*',0.5)\n",
        "mtg_['power'] = mtg_['power'].replace('*+1',0.6)\n",
        "mtg_['power'] = mtg_['power'].replace('*²',0.7)\n",
        "mtg_['power'] = mtg_['power'].replace('∞',0.8)\n",
        "mtg_['rarity'] = mtg_['rarity'].replace('common',1)\n",
        "mtg_['rarity'] = mtg_['rarity'].replace('uncommon',2)\n",
        "mtg_['rarity'] = mtg_['rarity'].replace('rare',3)\n",
        "mtg_['rarity'] = mtg_['rarity'].replace('mythic',4)"
      ],
      "execution_count": 0,
      "outputs": []
    },
    {
      "cell_type": "code",
      "metadata": {
        "id": "7fRlHAZnMIl_",
        "colab_type": "code",
        "outputId": "9e6fe930-cc32-468a-d966-a9f84e67f126",
        "colab": {
          "base_uri": "https://localhost:8080/"
        }
      },
      "source": [
        "mtg_['rarity'].value_counts(normalize=True)"
      ],
      "execution_count": 0,
      "outputs": [
        {
          "output_type": "execute_result",
          "data": {
            "text/plain": [
              "1    0.387890\n",
              "3    0.298882\n",
              "2    0.264238\n",
              "4    0.048991\n",
              "Name: rarity, dtype: float64"
            ]
          },
          "metadata": {
            "tags": []
          },
          "execution_count": 59
        }
      ]
    },
    {
      "cell_type": "code",
      "metadata": {
        "id": "CnKCz2K9p5wE",
        "colab_type": "code",
        "colab": {}
      },
      "source": [
        "mtg_['promo_types'] = mtg_['promo_types'].fillna('NOT A PROMO')\n",
        "mtg_['oracle_text'] = mtg_['oracle_text'].fillna('NO ORACLE TEXT ')\n",
        "mtg_['oracle_text'] = mtg_['oracle_text'].astype('str')\n",
        "mtg_['mana_cost'] = mtg_['mana_cost'].fillna('NMC')\n",
        "mtg_['power'] = mtg_['power'].fillna('-1')\n",
        "mtg_['power'] = mtg_['power'].astype('float')\n",
        "mtg_['toughness'] = mtg_['toughness'].fillna(-1) \n",
        "mtg_['toughness'] = mtg_['toughness'].astype('float') \n",
        "mtg_['loyalty'] = mtg_['loyalty'].fillna(-1)\n",
        "mtg_['loyalty'] = mtg_['loyalty'].astype('float')\n",
        "mtg_['colors'] = mtg_['colors'].fillna('[NAN]')\n",
        "mtg_['edhrec_rank'] = mtg_['edhrec_rank'].fillna(-1)\n",
        "mtg_['edhrec_rank'] = mtg_['edhrec_rank'].astype('float')\n"
      ],
      "execution_count": 0,
      "outputs": []
    },
    {
      "cell_type": "code",
      "metadata": {
        "id": "uyL0InWDERJf",
        "colab_type": "code",
        "outputId": "f2ad3b65-76b8-4d13-d194-107d147458f9",
        "colab": {
          "base_uri": "https://localhost:8080/"
        }
      },
      "source": [
        "mtg_.dtypes"
      ],
      "execution_count": 0,
      "outputs": [
        {
          "output_type": "execute_result",
          "data": {
            "text/plain": [
              "name                 object\n",
              "lang                 object\n",
              "released_at          object\n",
              "mana_cost            object\n",
              "cmc                  object\n",
              "type_line            object\n",
              "oracle_text          object\n",
              "colors               object\n",
              "color_identity       object\n",
              "reserved             object\n",
              "reprint              object\n",
              "set                  object\n",
              "set_name             object\n",
              "set_type             object\n",
              "collector_number     object\n",
              "digital              object\n",
              "rarity                int64\n",
              "border_color         object\n",
              "edhrec_rank         float64\n",
              "power               float64\n",
              "toughness           float64\n",
              "promo_types          object\n",
              "loyalty             float64\n",
              "dtype: object"
            ]
          },
          "metadata": {
            "tags": []
          },
          "execution_count": 61
        }
      ]
    },
    {
      "cell_type": "code",
      "metadata": {
        "id": "-MYzgUP0CgZF",
        "colab_type": "code",
        "colab": {}
      },
      "source": [
        "mtg_c = mtg_"
      ],
      "execution_count": 0,
      "outputs": []
    },
    {
      "cell_type": "code",
      "metadata": {
        "id": "3dIiB-q2p5vH",
        "colab_type": "code",
        "outputId": "026db86b-c7b5-4003-e8fb-9cc01c715123",
        "colab": {
          "base_uri": "https://localhost:8080/",
          "height": 34
        }
      },
      "source": [
        "def length_O_Text(str):\n",
        "    counter = 0    \n",
        "    for i in str: \n",
        "        counter += 1\n",
        "    return counter \n",
        "  \n",
        "  \n",
        "str = mtg_['name'][0]\n",
        "print(length_O_Text(str)) "
      ],
      "execution_count": 0,
      "outputs": [
        {
          "output_type": "stream",
          "text": [
            "7\n"
          ],
          "name": "stdout"
        }
      ]
    },
    {
      "cell_type": "code",
      "metadata": {
        "id": "hawQSCFop5tp",
        "colab_type": "code",
        "outputId": "4b152514-433d-40c2-b96f-8aea1c15c6cf",
        "colab": {
          "base_uri": "https://localhost:8080/"
        }
      },
      "source": [
        "len(mtg_['oracle_text'])"
      ],
      "execution_count": 0,
      "outputs": [
        {
          "output_type": "execute_result",
          "data": {
            "text/plain": [
              "50254"
            ]
          },
          "metadata": {
            "tags": []
          },
          "execution_count": 64
        }
      ]
    },
    {
      "cell_type": "code",
      "metadata": {
        "id": "UNT72uXBp5sW",
        "colab_type": "code",
        "colab": {}
      },
      "source": [
        "name_count = mtg_c['name'].apply(length_O_Text)"
      ],
      "execution_count": 0,
      "outputs": []
    },
    {
      "cell_type": "code",
      "metadata": {
        "id": "MRoUVIbTp5oN",
        "colab_type": "code",
        "colab": {}
      },
      "source": [
        "o_text_count =  mtg_c['oracle_text'].apply(length_O_Text)"
      ],
      "execution_count": 0,
      "outputs": []
    },
    {
      "cell_type": "code",
      "metadata": {
        "id": "Lhxpodcbp5qc",
        "colab_type": "code",
        "outputId": "1d2f5400-4691-4bd2-c818-63e4d08118b4",
        "colab": {
          "base_uri": "https://localhost:8080/"
        }
      },
      "source": [
        "name_count.describe()"
      ],
      "execution_count": 0,
      "outputs": [
        {
          "output_type": "execute_result",
          "data": {
            "text/plain": [
              "count    50254.000000\n",
              "mean        14.330700\n",
              "std          5.215441\n",
              "min          1.000000\n",
              "25%         11.000000\n",
              "50%         14.000000\n",
              "75%         17.000000\n",
              "max        141.000000\n",
              "Name: name, dtype: float64"
            ]
          },
          "metadata": {
            "tags": []
          },
          "execution_count": 67
        }
      ]
    },
    {
      "cell_type": "code",
      "metadata": {
        "id": "r4C47Nx1p5pP",
        "colab_type": "code",
        "outputId": "7c6430ed-ce99-4822-cc86-b9e28b42f6c8",
        "colab": {
          "base_uri": "https://localhost:8080/"
        }
      },
      "source": [
        "o_text_count.describe()"
      ],
      "execution_count": 0,
      "outputs": [
        {
          "output_type": "execute_result",
          "data": {
            "text/plain": [
              "count    50254.000000\n",
              "mean       125.397381\n",
              "std         86.581130\n",
              "min          5.000000\n",
              "25%         60.000000\n",
              "50%        111.000000\n",
              "75%        177.000000\n",
              "max        769.000000\n",
              "Name: oracle_text, dtype: float64"
            ]
          },
          "metadata": {
            "tags": []
          },
          "execution_count": 68
        }
      ]
    },
    {
      "cell_type": "code",
      "metadata": {
        "id": "SXg5aadk_m5d",
        "colab_type": "code",
        "outputId": "19f978d7-f97b-42fe-9cc7-d140ce8ec800",
        "colab": {
          "base_uri": "https://localhost:8080/"
        }
      },
      "source": [
        "o_text_count"
      ],
      "execution_count": 0,
      "outputs": [
        {
          "output_type": "execute_result",
          "data": {
            "text/plain": [
              "0         57\n",
              "1        176\n",
              "2         81\n",
              "3         15\n",
              "4        226\n",
              "        ... \n",
              "50249    101\n",
              "50250    326\n",
              "50251    215\n",
              "50252     18\n",
              "50253     73\n",
              "Name: oracle_text, Length: 50254, dtype: int64"
            ]
          },
          "metadata": {
            "tags": []
          },
          "execution_count": 69
        }
      ]
    },
    {
      "cell_type": "code",
      "metadata": {
        "id": "haAzrF8MFcdx",
        "colab_type": "code",
        "colab": {}
      },
      "source": [
        "mtg_c['oracle_text_count'] = o_text_count\n",
        "mtg_c['name_text_count'] = name_count"
      ],
      "execution_count": 0,
      "outputs": []
    },
    {
      "cell_type": "code",
      "metadata": {
        "id": "u7ue-G6IH30x",
        "colab_type": "code",
        "colab": {}
      },
      "source": [
        "mtg_c = mtg_c.drop(['name','lang','oracle_text'] , axis=1)"
      ],
      "execution_count": 0,
      "outputs": []
    },
    {
      "cell_type": "code",
      "metadata": {
        "id": "icplxk8fIwm0",
        "colab_type": "code",
        "colab": {}
      },
      "source": [
        "mtg_c.to_csv('mtg_c.csv')"
      ],
      "execution_count": 0,
      "outputs": []
    },
    {
      "cell_type": "code",
      "metadata": {
        "id": "udNFP7kv7tee",
        "colab_type": "code",
        "colab": {}
      },
      "source": [
        "px.scatter_3d(mtg_c ,x='rarity', y='power',z='cmc')"
      ],
      "execution_count": 0,
      "outputs": []
    },
    {
      "cell_type": "code",
      "metadata": {
        "id": "4stp-Bt2Gw47",
        "colab_type": "code",
        "colab": {}
      },
      "source": [
        "!pip install category_encoders\n",
        "!pip install pandas-profiling==2.*"
      ],
      "execution_count": 0,
      "outputs": []
    },
    {
      "cell_type": "code",
      "metadata": {
        "id": "FE9LJrGXHc0A",
        "colab_type": "code",
        "colab": {}
      },
      "source": [
        "from pandas_profiling import profile_report"
      ],
      "execution_count": 0,
      "outputs": []
    },
    {
      "cell_type": "code",
      "metadata": {
        "id": "SDCxsWcXHf2G",
        "colab_type": "code",
        "outputId": "614eb6a7-7bb0-4f52-96ab-53711a6119e9",
        "colab": {
          "base_uri": "https://localhost:8080/",
          "referenced_widgets": [
            "fd4de035f3c645f9afbdc7929452bcf2",
            "7fe7b184e639490e8471f22f2487006a",
            "40b82a7e73884636bbb1f654693f2fd1"
          ]
        }
      },
      "source": [
        "mtg_c.profile_report()"
      ],
      "execution_count": 0,
      "outputs": [
        {
          "output_type": "display_data",
          "data": {
            "application/vnd.jupyter.widget-view+json": {
              "model_id": "fd4de035f3c645f9afbdc7929452bcf2",
              "version_minor": 0,
              "version_major": 2
            },
            "text/plain": [
              "HBox(children=(FloatProgress(value=0.0, description='Summarize dataset', max=36.0, style=ProgressStyle(descrip…"
            ]
          },
          "metadata": {
            "tags": []
          }
        },
        {
          "output_type": "stream",
          "text": [
            "\n"
          ],
          "name": "stdout"
        },
        {
          "output_type": "display_data",
          "data": {
            "application/vnd.jupyter.widget-view+json": {
              "model_id": "7fe7b184e639490e8471f22f2487006a",
              "version_minor": 0,
              "version_major": 2
            },
            "text/plain": [
              "HBox(children=(FloatProgress(value=0.0, description='Generate report structure', max=1.0, style=ProgressStyle(…"
            ]
          },
          "metadata": {
            "tags": []
          }
        },
        {
          "output_type": "stream",
          "text": [
            "\n"
          ],
          "name": "stdout"
        },
        {
          "output_type": "display_data",
          "data": {
            "application/vnd.jupyter.widget-view+json": {
              "model_id": "40b82a7e73884636bbb1f654693f2fd1",
              "version_minor": 0,
              "version_major": 2
            },
            "text/plain": [
              "HBox(children=(FloatProgress(value=0.0, description='Render HTML', max=1.0, style=ProgressStyle(description_wi…"
            ]
          },
          "metadata": {
            "tags": []
          }
        }
      ]
    },
    {
      "cell_type": "code",
      "metadata": {
        "id": "MiDFPgF5d_TM",
        "colab_type": "code",
        "colab": {}
      },
      "source": [
        "# Choose a feature and plot it versus target\n",
        "# rarity vs cmc\n",
        "import plotly.express as px\n",
        "px.box(mtg_c, x='rarity', y='oracle_text_count')\n"
      ],
      "execution_count": 0,
      "outputs": []
    },
    {
      "cell_type": "code",
      "metadata": {
        "id": "hgNGsNLHglWB",
        "colab_type": "code",
        "colab": {}
      },
      "source": [
        "px.bar(mtg_c, x= 'rarity',y='cmc')"
      ],
      "execution_count": 0,
      "outputs": []
    },
    {
      "cell_type": "code",
      "metadata": {
        "id": "pFOX-5MoOL7C",
        "colab_type": "code",
        "colab": {}
      },
      "source": [
        "mtg_c['rarity'].value_counts(normalize=True)"
      ],
      "execution_count": 0,
      "outputs": []
    },
    {
      "cell_type": "code",
      "metadata": {
        "id": "jgz2Q3TeLcpW",
        "colab_type": "code",
        "colab": {
          "base_uri": "https://localhost:8080/",
          "height": 217
        },
        "outputId": "9cb6992f-d3f5-464d-9c9f-350517cbfbaa"
      },
      "source": [
        "from sklearn.linear_model import LinearRegression\n",
        "model = LinearRegression(\n",
        "    ce.OrdinalEncoder(),\n",
        ")"
      ],
      "execution_count": 1,
      "outputs": [
        {
          "output_type": "error",
          "ename": "NameError",
          "evalue": "ignored",
          "traceback": [
            "\u001b[0;31m---------------------------------------------------------------------------\u001b[0m",
            "\u001b[0;31mNameError\u001b[0m                                 Traceback (most recent call last)",
            "\u001b[0;32m<ipython-input-1-f71808ad5965>\u001b[0m in \u001b[0;36m<module>\u001b[0;34m()\u001b[0m\n\u001b[1;32m      1\u001b[0m \u001b[0;32mfrom\u001b[0m \u001b[0msklearn\u001b[0m\u001b[0;34m.\u001b[0m\u001b[0mlinear_model\u001b[0m \u001b[0;32mimport\u001b[0m \u001b[0mLinearRegression\u001b[0m\u001b[0;34m\u001b[0m\u001b[0;34m\u001b[0m\u001b[0m\n\u001b[1;32m      2\u001b[0m model = LinearRegression(\n\u001b[0;32m----> 3\u001b[0;31m     \u001b[0mce\u001b[0m\u001b[0;34m.\u001b[0m\u001b[0mOrdinalEncoder\u001b[0m\u001b[0;34m(\u001b[0m\u001b[0;34m)\u001b[0m\u001b[0;34m,\u001b[0m\u001b[0;34m\u001b[0m\u001b[0;34m\u001b[0m\u001b[0m\n\u001b[0m\u001b[1;32m      4\u001b[0m )\n",
            "\u001b[0;31mNameError\u001b[0m: name 'ce' is not defined"
          ]
        }
      ]
    },
    {
      "cell_type": "code",
      "metadata": {
        "id": "O_3cx5c6LfKY",
        "colab_type": "code",
        "colab": {}
      },
      "source": [
        "# train, test = train_test_split(\n",
        "#     mtg_c, train_size=0.75, test_size=0.25, random_state=42)\n",
        "\n",
        "# target = 'rarity'\n",
        "# features = train.columns.drop(target)\n",
        "# X_train = train[features]\n",
        "# y_train = train[target]\n",
        "# X_test = test[features]\n",
        "# y_test = test[target]\n",
        "\n",
        "# X_train.shape, X_test.shape, y_train.shape, y_test.shape"
      ],
      "execution_count": 0,
      "outputs": []
    },
    {
      "cell_type": "code",
      "metadata": {
        "id": "rt9quDQtkGRf",
        "colab_type": "code",
        "colab": {}
      },
      "source": [
        "# Fit model \n",
        "# model.fit(X_train, y_train)\n",
        "# my data and  my target are catergorical  linear regession wont work with \n",
        "# out more  feature  engineering"
      ],
      "execution_count": 0,
      "outputs": []
    },
    {
      "cell_type": "code",
      "metadata": {
        "id": "IzOmyH8cfTPo",
        "colab_type": "code",
        "colab": {}
      },
      "source": [
        "\n",
        "from sklearn.ensemble import RandomForestClassifier\n",
        "from sklearn.impute import SimpleImputer\n",
        "from sklearn.model_selection import RandomizedSearchCV, train_test_split\n",
        "from sklearn.pipeline import make_pipeline\n",
        "from scipy.stats import uniform\n",
        "import category_encoders as ce\n",
        "target='rarity'\n",
        "features = mtg_c.columns.drop(target)"
      ],
      "execution_count": 0,
      "outputs": []
    },
    {
      "cell_type": "code",
      "metadata": {
        "id": "R0S0Yj1HFWjK",
        "colab_type": "code",
        "colab": {}
      },
      "source": [
        "\n",
        "\n",
        "\n",
        "\n",
        "train = mtg_c\n",
        "test = train[features]\n",
        "train, val = train_test_split(train, train_size=0.80, test_size=0.20, \n",
        "                              stratify=train['rarity'], random_state=17)\n",
        "\n",
        "\n",
        "def wrangle(X):\n",
        "    \"\"\"Wrangle train, validate, and test sets in the same way\"\"\"\n",
        "    \n",
        "    # Prevent SettingWithCopyWarning\n",
        "    X = X.copy()\n",
        "\n",
        "\n",
        "    \n",
        "    \n",
        "\n",
        "    return X\n",
        "\n",
        "train = wrangle(train)\n",
        "val = wrangle(val)\n",
        "test = wrangle(test)"
      ],
      "execution_count": 0,
      "outputs": []
    },
    {
      "cell_type": "code",
      "metadata": {
        "id": "VFaM5S6QBc0I",
        "colab_type": "code",
        "colab": {}
      },
      "source": [
        "\n",
        "X_train = train[features]\n",
        "y_train = train[target]\n",
        "X_val = val[features]\n",
        "y_val = val[target]\n",
        "X_test = test[features]"
      ],
      "execution_count": 0,
      "outputs": []
    },
    {
      "cell_type": "code",
      "metadata": {
        "id": "dz07699hE69X",
        "colab_type": "code",
        "colab": {}
      },
      "source": [
        "# checking shape\n",
        "X_val.shape, y_val.shape"
      ],
      "execution_count": 0,
      "outputs": []
    },
    {
      "cell_type": "code",
      "metadata": {
        "id": "EEHfpW3G7jWe",
        "colab_type": "code",
        "colab": {}
      },
      "source": [
        "pipeline = make_pipeline(\n",
        "    ce.OrdinalEncoder(), \n",
        "    SimpleImputer(),\n",
        "    RandomForestClassifier(random_state=17,) \n",
        ")\n",
        "\n",
        "param_distributions = {\n",
        "    'randomforestclassifier__n_estimators': range(50, 500), \n",
        "    'randomforestclassifier__max_depth': [5, 10, 15, 20, None], \n",
        "    'randomforestclassifier__max_features': uniform(0, 1), \n",
        "    'randomforestclassifier__min_samples_leaf': [10, 100, 1000]\n",
        "}"
      ],
      "execution_count": 0,
      "outputs": []
    },
    {
      "cell_type": "code",
      "metadata": {
        "id": "RcFO88SNMAxM",
        "colab_type": "code",
        "colab": {}
      },
      "source": [
        "pipeline.fit(X_train,y_train)"
      ],
      "execution_count": 0,
      "outputs": []
    },
    {
      "cell_type": "code",
      "metadata": {
        "id": "gt2dx9wLMFeh",
        "colab_type": "code",
        "colab": {}
      },
      "source": [
        "pipeline.score(X_val,y_val)"
      ],
      "execution_count": 0,
      "outputs": []
    },
    {
      "cell_type": "code",
      "metadata": {
        "id": "5qR96sKVw0HA",
        "colab_type": "code",
        "outputId": "0cf920ca-6b7e-49b1-dcf0-90157e5a4592",
        "colab": {
          "base_uri": "https://localhost:8080/",
          "height": 416
        }
      },
      "source": [
        "search = RandomizedSearchCV(\n",
        "    pipeline,\n",
        "    param_distributions=param_distributions,\n",
        "    n_iter=10,\n",
        "    cv=3,\n",
        "    scoring='accuracy',\n",
        "    verbose=10,\n",
        "    return_train_score=True,\n",
        "    n_jobs=-1\n",
        ")\n",
        "pipeline.fit(X_train, y_train)"
      ],
      "execution_count": 0,
      "outputs": [
        {
          "output_type": "execute_result",
          "data": {
            "text/plain": [
              "Pipeline(memory=None,\n",
              "         steps=[('ordinalencoder',\n",
              "                 OrdinalEncoder(cols=['released_at', 'mana_cost', 'cmc',\n",
              "                                      'type_line', 'colors', 'color_identity',\n",
              "                                      'reserved', 'reprint', 'set', 'set_name',\n",
              "                                      'set_type', 'collector_number', 'digital',\n",
              "                                      'border_color', 'promo_types'],\n",
              "                                drop_invariant=False, handle_missing='value',\n",
              "                                handle_unknown='value',\n",
              "                                mapping=[{'col': 'released_at',\n",
              "                                          'data_ty...\n",
              "                 RandomForestClassifier(bootstrap=True, ccp_alpha=0.0,\n",
              "                                        class_weight=None, criterion='gini',\n",
              "                                        max_depth=None, max_features='auto',\n",
              "                                        max_leaf_nodes=None, max_samples=None,\n",
              "                                        min_impurity_decrease=0.0,\n",
              "                                        min_impurity_split=None,\n",
              "                                        min_samples_leaf=1, min_samples_split=2,\n",
              "                                        min_weight_fraction_leaf=0.0,\n",
              "                                        n_estimators=100, n_jobs=None,\n",
              "                                        oob_score=False, random_state=17,\n",
              "                                        verbose=0, warm_start=False))],\n",
              "         verbose=False)"
            ]
          },
          "metadata": {
            "tags": []
          },
          "execution_count": 90
        }
      ]
    },
    {
      "cell_type": "code",
      "metadata": {
        "id": "e7x5wTHNMVmE",
        "colab_type": "code",
        "outputId": "c4554109-c983-461a-8267-43bbce07e45f",
        "colab": {
          "base_uri": "https://localhost:8080/",
          "height": 762
        }
      },
      "source": [
        "%time\n",
        "# refittiing original model after  re engineering data\n",
        "search.fit(X_train,y_train)"
      ],
      "execution_count": 0,
      "outputs": [
        {
          "output_type": "stream",
          "text": [
            "CPU times: user 3 µs, sys: 0 ns, total: 3 µs\n",
            "Wall time: 7.15 µs\n",
            "Fitting 3 folds for each of 10 candidates, totalling 30 fits\n"
          ],
          "name": "stdout"
        },
        {
          "output_type": "stream",
          "text": [
            "[Parallel(n_jobs=-1)]: Using backend LokyBackend with 2 concurrent workers.\n",
            "[Parallel(n_jobs=-1)]: Done   1 tasks      | elapsed:   12.0s\n",
            "[Parallel(n_jobs=-1)]: Done   4 tasks      | elapsed:   26.3s\n",
            "[Parallel(n_jobs=-1)]: Done   9 tasks      | elapsed:  1.5min\n",
            "[Parallel(n_jobs=-1)]: Done  14 tasks      | elapsed:  2.1min\n",
            "[Parallel(n_jobs=-1)]: Done  21 tasks      | elapsed:  4.0min\n",
            "[Parallel(n_jobs=-1)]: Done  30 out of  30 | elapsed:  5.6min finished\n"
          ],
          "name": "stderr"
        },
        {
          "output_type": "execute_result",
          "data": {
            "text/plain": [
              "RandomizedSearchCV(cv=3, error_score=nan,\n",
              "                   estimator=Pipeline(memory=None,\n",
              "                                      steps=[('ordinalencoder',\n",
              "                                              OrdinalEncoder(cols=['released_at',\n",
              "                                                                   'mana_cost',\n",
              "                                                                   'cmc',\n",
              "                                                                   'type_line',\n",
              "                                                                   'colors',\n",
              "                                                                   'color_identity',\n",
              "                                                                   'reserved',\n",
              "                                                                   'reprint',\n",
              "                                                                   'set',\n",
              "                                                                   'set_name',\n",
              "                                                                   'set_type',\n",
              "                                                                   'collector_number',\n",
              "                                                                   'digital',\n",
              "                                                                   'border_color',\n",
              "                                                                   'promo_types'],\n",
              "                                                             drop_invariant=False,\n",
              "                                                             handle_missing='value',\n",
              "                                                             handle_unkn...\n",
              "                   param_distributions={'randomforestclassifier__max_depth': [5,\n",
              "                                                                              10,\n",
              "                                                                              15,\n",
              "                                                                              20,\n",
              "                                                                              None],\n",
              "                                        'randomforestclassifier__max_features': <scipy.stats._distn_infrastructure.rv_frozen object at 0x7fe56d7472b0>,\n",
              "                                        'randomforestclassifier__min_samples_leaf': [10,\n",
              "                                                                                     100,\n",
              "                                                                                     1000],\n",
              "                                        'randomforestclassifier__n_estimators': range(50, 500)},\n",
              "                   pre_dispatch='2*n_jobs', random_state=None, refit=True,\n",
              "                   return_train_score=True, scoring='accuracy', verbose=10)"
            ]
          },
          "metadata": {
            "tags": []
          },
          "execution_count": 91
        }
      ]
    },
    {
      "cell_type": "code",
      "metadata": {
        "id": "wNPx3TJYNB0A",
        "colab_type": "code",
        "outputId": "7e94153f-eaae-4310-b1f0-bb532979f339",
        "colab": {
          "base_uri": "https://localhost:8080/"
        }
      },
      "source": [
        "search.best_score_"
      ],
      "execution_count": 0,
      "outputs": [
        {
          "output_type": "execute_result",
          "data": {
            "text/plain": [
              "0.7092008059100067"
            ]
          },
          "metadata": {
            "tags": []
          },
          "execution_count": 92
        }
      ]
    },
    {
      "cell_type": "code",
      "metadata": {
        "id": "uBsw6RKuNETw",
        "colab_type": "code",
        "colab": {}
      },
      "source": [
        "from xgboost import XGBRFClassifier"
      ],
      "execution_count": 0,
      "outputs": []
    },
    {
      "cell_type": "code",
      "metadata": {
        "id": "CtvwY05sNjGy",
        "colab_type": "code",
        "outputId": "b9ad7c18-ca9e-472e-931e-da332733aa4b",
        "colab": {
          "base_uri": "https://localhost:8080/",
          "height": 933
        }
      },
      "source": [
        "mt = pipeline.named_steps['randomforestclassifier']\n",
        "importances = pd.Series(mt.feature_importances_, X_train.columns)\n",
        "\n",
        "n = 15\n",
        "plt.figure(figsize = (15, n/2))\n",
        "plt.title(f'Top {n} features')\n",
        "importances.sort_values()[-n:].plot.barh(color='blue')\n",
        "\n",
        "n = 15\n",
        "plt.figure(figsize = (15, n/2))\n",
        "plt.title(f'Bottom {n} features')\n",
        "importances.sort_values()[:n].plot.barh(color='red');"
      ],
      "execution_count": 0,
      "outputs": [
        {
          "output_type": "display_data",
          "data": {
            "image/png": "[encoded data removed]",
            "text/plain": [
              "<Figure size 1080x540 with 1 Axes>"
            ]
          },
          "metadata": {
            "tags": []
          }
        },
        {
          "output_type": "display_data",
          "data": {
            "image/png": "[encoded data removed]",
            "text/plain": [
              "<Figure size 1080x540 with 1 Axes>"
            ]
          },
          "metadata": {
            "tags": []
          }
        }
      ]
    },
    {
      "cell_type": "code",
      "metadata": {
        "id": "rYuzkNCyeX6D",
        "colab_type": "code",
        "outputId": "b8c669c6-1905-48c1-aa11-2b4d47c1f212",
        "colab": {
          "base_uri": "https://localhost:8080/",
          "height": 384
        }
      },
      "source": [
        "import seaborn as sns\n",
        "sns.distplot(y_train)"
      ],
      "execution_count": 0,
      "outputs": [
        {
          "output_type": "execute_result",
          "data": {
            "text/plain": [
              "<matplotlib.axes._subplots.AxesSubplot at 0x7fe56d2f5c88>"
            ]
          },
          "metadata": {
            "tags": []
          },
          "execution_count": 95
        },
        {
          "output_type": "display_data",
          "data": {
            "image/png": "[encoded data removed]",
            "text/plain": [
              "<Figure size 576x396 with 1 Axes>"
            ]
          },
          "metadata": {
            "tags": []
          }
        }
      ]
    },
    {
      "cell_type": "code",
      "metadata": {
        "id": "wPNREu2wOZeP",
        "colab_type": "code",
        "outputId": "f006416b-7976-4184-ed9f-412c7983dbf9",
        "colab": {
          "base_uri": "https://localhost:8080/",
          "height": 745
        }
      },
      "source": [
        "! pip install pdpbox\n",
        "! pip install shap"
      ],
      "execution_count": 0,
      "outputs": [
        {
          "output_type": "stream",
          "text": [
            "Collecting pdpbox\n",
            "\u001b[?25l  Downloading https://files.pythonhosted.org/packages/87/23/ac7da5ba1c6c03a87c412e7e7b6e91a10d6ecf4474906c3e736f93940d49/PDPbox-0.2.0.tar.gz (57.7MB)\n",
            "\u001b[K     |████████████████████████████████| 57.7MB 75kB/s \n",
            "\u001b[?25hRequirement already satisfied: pandas in /usr/local/lib/python3.6/dist-packages (from pdpbox) (1.0.3)\n",
            "Requirement already satisfied: numpy in /usr/local/lib/python3.6/dist-packages (from pdpbox) (1.18.4)\n",
            "Requirement already satisfied: scipy in /usr/local/lib/python3.6/dist-packages (from pdpbox) (1.4.1)\n",
            "Requirement already satisfied: matplotlib>=2.1.2 in /usr/local/lib/python3.6/dist-packages (from pdpbox) (3.2.1)\n",
            "Requirement already satisfied: joblib in /usr/local/lib/python3.6/dist-packages (from pdpbox) (0.15.1)\n",
            "Requirement already satisfied: psutil in /usr/local/lib/python3.6/dist-packages (from pdpbox) (5.4.8)\n",
            "Requirement already satisfied: scikit-learn in /usr/local/lib/python3.6/dist-packages (from pdpbox) (0.22.2.post1)\n",
            "Requirement already satisfied: python-dateutil>=2.6.1 in /usr/local/lib/python3.6/dist-packages (from pandas->pdpbox) (2.8.1)\n",
            "Requirement already satisfied: pytz>=2017.2 in /usr/local/lib/python3.6/dist-packages (from pandas->pdpbox) (2018.9)\n",
            "Requirement already satisfied: cycler>=0.10 in /usr/local/lib/python3.6/dist-packages (from matplotlib>=2.1.2->pdpbox) (0.10.0)\n",
            "Requirement already satisfied: pyparsing!=2.0.4,!=2.1.2,!=2.1.6,>=2.0.1 in /usr/local/lib/python3.6/dist-packages (from matplotlib>=2.1.2->pdpbox) (2.4.7)\n",
            "Requirement already satisfied: kiwisolver>=1.0.1 in /usr/local/lib/python3.6/dist-packages (from matplotlib>=2.1.2->pdpbox) (1.2.0)\n",
            "Requirement already satisfied: six>=1.5 in /usr/local/lib/python3.6/dist-packages (from python-dateutil>=2.6.1->pandas->pdpbox) (1.12.0)\n",
            "Building wheels for collected packages: pdpbox\n",
            "  Building wheel for pdpbox (setup.py) ... \u001b[?25l\u001b[?25hdone\n",
            "  Created wheel for pdpbox: filename=PDPbox-0.2.0-cp36-none-any.whl size=57690722 sha256=06bd34df9cb9a59591955f2bbf4a10be6380c857ba975b24297d3c8295021af7\n",
            "  Stored in directory: /root/.cache/pip/wheels/7d/08/51/63fd122b04a2c87d780464eeffb94867c75bd96a64d500a3fe\n",
            "Successfully built pdpbox\n",
            "Installing collected packages: pdpbox\n",
            "Successfully installed pdpbox-0.2.0\n",
            "Collecting shap\n",
            "\u001b[?25l  Downloading https://files.pythonhosted.org/packages/a8/77/b504e43e21a2ba543a1ac4696718beb500cfa708af2fb57cb54ce299045c/shap-0.35.0.tar.gz (273kB)\n",
            "\u001b[K     |████████████████████████████████| 276kB 2.0MB/s \n",
            "\u001b[?25hRequirement already satisfied: numpy in /usr/local/lib/python3.6/dist-packages (from shap) (1.18.4)\n",
            "Requirement already satisfied: scipy in /usr/local/lib/python3.6/dist-packages (from shap) (1.4.1)\n",
            "Requirement already satisfied: scikit-learn in /usr/local/lib/python3.6/dist-packages (from shap) (0.22.2.post1)\n",
            "Requirement already satisfied: pandas in /usr/local/lib/python3.6/dist-packages (from shap) (1.0.3)\n",
            "Requirement already satisfied: tqdm>4.25.0 in /usr/local/lib/python3.6/dist-packages (from shap) (4.46.0)\n",
            "Requirement already satisfied: joblib>=0.11 in /usr/local/lib/python3.6/dist-packages (from scikit-learn->shap) (0.15.1)\n",
            "Requirement already satisfied: python-dateutil>=2.6.1 in /usr/local/lib/python3.6/dist-packages (from pandas->shap) (2.8.1)\n",
            "Requirement already satisfied: pytz>=2017.2 in /usr/local/lib/python3.6/dist-packages (from pandas->shap) (2018.9)\n",
            "Requirement already satisfied: six>=1.5 in /usr/local/lib/python3.6/dist-packages (from python-dateutil>=2.6.1->pandas->shap) (1.12.0)\n",
            "Building wheels for collected packages: shap\n",
            "  Building wheel for shap (setup.py) ... \u001b[?25l\u001b[?25hdone\n",
            "  Created wheel for shap: filename=shap-0.35.0-cp36-cp36m-linux_x86_64.whl size=394115 sha256=c3f03dd0176ca42bbfe08d406952a450ba49c85a3681727e1d828829bbdab873\n",
            "  Stored in directory: /root/.cache/pip/wheels/e7/f7/0f/b57055080cf8894906b3bd3616d2fc2bfd0b12d5161bcb24ac\n",
            "Successfully built shap\n",
            "Installing collected packages: shap\n",
            "Successfully installed shap-0.35.0\n"
          ],
          "name": "stdout"
        }
      ]
    },
    {
      "cell_type": "code",
      "metadata": {
        "id": "oRpWCsH2dS3v",
        "colab_type": "code",
        "colab": {}
      },
      "source": [
        "from pdpbox.pdp import pdp_isolate, pdp_plot"
      ],
      "execution_count": 0,
      "outputs": []
    },
    {
      "cell_type": "code",
      "metadata": {
        "id": "9QgffIyadain",
        "colab_type": "code",
        "colab": {}
      },
      "source": [
        ""
      ],
      "execution_count": 0,
      "outputs": []
    }
  ]
}